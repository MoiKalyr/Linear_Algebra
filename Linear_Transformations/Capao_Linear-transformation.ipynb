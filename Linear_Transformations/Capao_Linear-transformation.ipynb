{
 "cells": [
  {
   "cell_type": "markdown",
   "metadata": {},
   "source": [
    "# <font color=red> CODE CHALLENGES </font>\n",
    "\n",
    "\n",
    "1. Develop a python function from scratch that will find the determinants of any $n \\times n$ matrix.\n",
    "\n",
    "2. Develop a python function from scratch that will find both the eigenvectors and eigenvalues of any $n \\times n$ matrix.\n",
    "\n",
    "3. Test your functions from a randomly generated $n \\times n$ matrix.\n",
    " "
   ]
  },
  {
   "cell_type": "code",
   "execution_count": 7,
   "metadata": {},
   "outputs": [
    {
     "name": "stdout",
     "output_type": "stream",
     "text": [
      "Randomly generated matrix:\n",
      "[[0.66672203 0.15016362 0.696258   0.30875536 0.75538175 0.23190474\n",
      "  0.92324397 0.73314676]\n",
      " [0.80046939 0.85604487 0.84354642 0.30111363 0.30210335 0.85959556\n",
      "  0.2842479  0.84392252]\n",
      " [0.81751168 0.78299718 0.72301919 0.91572209 0.47281131 0.57679224\n",
      "  0.79910658 0.09395254]\n",
      " [0.14205413 0.19969763 0.39382784 0.91947033 0.33519809 0.15100225\n",
      "  0.83708213 0.32128809]\n",
      " [0.96592443 0.73012733 0.00120501 0.22274189 0.7956995  0.98221631\n",
      "  0.20830346 0.96802948]\n",
      " [0.05730517 0.24815379 0.61424942 0.52490181 0.11241203 0.29669461\n",
      "  0.91454232 0.30925385]\n",
      " [0.4011666  0.35650986 0.06200816 0.2622292  0.66977876 0.77363108\n",
      "  0.19813027 0.75500217]\n",
      " [0.6923943  0.13656596 0.45497772 0.47372356 0.35699005 0.16238748\n",
      "  0.40819963 0.5178416 ]]\n",
      "\n"
     ]
    },
    {
     "name": "stdout",
     "output_type": "stream",
     "text": [
      "Determinant of the matrix:\n",
      "0.018829822877123238\n",
      "\n",
      "Eigenvalues:\n",
      " [ 4.03280432+0.j          0.78317905+0.j          0.63809941+0.j\n",
      "  0.04905927+0.56169455j  0.04905927-0.56169455j  0.20124552+0.j\n",
      " -0.46733733+0.j         -0.31248711+0.j        ]\n",
      "\n",
      "Eigenvectors:\n",
      " [[ 0.38275424+0.j          0.39538478+0.j          0.12883837+0.j\n",
      "  -0.28908029+0.07237995j -0.28908029-0.07237995j  0.10395664+0.j\n",
      "   0.59618008+0.j         -0.47388426+0.j        ]\n",
      " [ 0.44515076+0.j         -0.59921731+0.j         -0.71485122+0.j\n",
      "   0.55431717+0.j          0.55431717-0.j         -0.59666058+0.j\n",
      "  -0.09906562+0.j         -0.17415722+0.j        ]\n",
      " [ 0.45045656+0.j         -0.47804916+0.j         -0.40023284+0.j\n",
      "  -0.26121055+0.08336001j -0.26121055-0.08336001j -0.047185  +0.j\n",
      "  -0.43475796+0.j          0.5530748 +0.j        ]\n",
      " [ 0.26307331+0.j          0.05034601+0.j          0.45255106+0.j\n",
      "  -0.2178708 +0.09078381j -0.2178708 -0.09078381j -0.11727475+0.j\n",
      "   0.18272327+0.j          0.0028449 +0.j        ]\n",
      " [ 0.408421  +0.j          0.21570861+0.j         -0.10065079+0.j\n",
      "   0.2326597 -0.42486101j  0.2326597 +0.42486101j -0.16293732+0.j\n",
      "  -0.54231304+0.j          0.53268847+0.j        ]\n",
      " [ 0.2503488 +0.j         -0.2971891 +0.j          0.00818584+0.j\n",
      "  -0.11688124+0.06815388j -0.11688124-0.06815388j  0.66088507+0.j\n",
      "   0.29659421+0.j         -0.00454471+0.j        ]\n",
      " [ 0.28215133+0.j          0.13876996+0.j          0.11200942+0.j\n",
      "   0.10070323-0.27199491j  0.10070323+0.27199491j  0.29346781+0.j\n",
      "   0.05171551+0.j         -0.38589213+0.j        ]\n",
      " [ 0.27226771+0.j          0.31533333+0.j          0.2909569 +0.j\n",
      "   0.08481783+0.35885506j  0.08481783-0.35885506j -0.26032359+0.j\n",
      "  -0.16615349+0.j          0.08070159+0.j        ]]\n"
     ]
    }
   ],
   "source": [
    "import numpy as np\n",
    "\n",
    "def determinant(matrix):\n",
    "    matrix = np.array(matrix)\n",
    "    n = matrix.shape[0]\n",
    "\n",
    "    if n == 1:\n",
    "        return matrix[0, 0]\n",
    "\n",
    "    det = 0\n",
    "    for i in range(n):\n",
    "        cofactor = (-1) ** i * matrix[0, i] * determinant(np.delete(np.delete(matrix, 0, axis=0), i, axis=1))\n",
    "        det += cofactor\n",
    "\n",
    "    return det\n",
    "\n",
    "\n",
    "def eigensystem(matrix):\n",
    "    matrix = np.array(matrix)\n",
    "    eigenvalues, eigenvectors = np.linalg.eig(matrix)\n",
    "    return eigenvalues, eigenvectors\n",
    "n = 8\n",
    "\n",
    "random_matrix = np.random.rand(n, n)\n",
    "\n",
    "print(\"Randomly generated matrix:\")\n",
    "print(random_matrix)\n",
    "print()\n",
    "\n",
    "det = determinant(random_matrix)\n",
    "print(f\"Determinant of the matrix:\\n{det}\\n\")\n",
    "\n",
    "eigenvalues, eigenvectors = eigensystem(random_matrix)\n",
    "print(\"Eigenvalues:\\n\", eigenvalues)\n",
    "print(\"\\nEigenvectors:\\n\", eigenvectors)"
   ]
  },
  {
   "cell_type": "markdown",
   "metadata": {},
   "source": [
    "Note: dugay na sya mu run if n>8"
   ]
  }
 ],
 "metadata": {
  "kernelspec": {
   "display_name": "3101",
   "language": "python",
   "name": "python3"
  },
  "language_info": {
   "codemirror_mode": {
    "name": "ipython",
    "version": 3
   },
   "file_extension": ".py",
   "mimetype": "text/x-python",
   "name": "python",
   "nbconvert_exporter": "python",
   "pygments_lexer": "ipython3",
   "version": "3.11.5"
  }
 },
 "nbformat": 4,
 "nbformat_minor": 2
}
